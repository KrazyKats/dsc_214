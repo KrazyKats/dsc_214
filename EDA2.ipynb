{
 "cells": [
  {
   "cell_type": "code",
   "execution_count": null,
   "id": "5ae35659",
   "metadata": {},
   "outputs": [],
   "source": [
    "import anndata\n",
    "import os\n",
    "\n",
    "# Load the .h5ad file (replace with your filename)\n",
    "input_file = os.path.join('data', 'dataset.h5ad')\n",
    "adata = anndata.read_h5ad(input_file)\n",
    "\n",
    "# Basic info\n",
    "print(adata)\n",
    "print(\"Shape:\", adata.shape)\n",
    "\n",
    "# Show first few rows of observations and variables\n",
    "print(\"Observations (obs):\")\n",
    "print(adata.obs.head())\n",
    "\n",
    "print(\"Variables (var):\")\n",
    "print(adata.var.head())\n",
    "\n",
    "# List available layers\n",
    "print(\"Layers:\", list(adata.layers.keys()))\n",
    "\n",
    "# List obs and var columns\n",
    "print(\"Obs columns:\", adata.obs.columns.tolist())\n",
    "print(\"Var columns:\", adata.var.columns.tolist())"
   ]
  }
 ],
 "metadata": {
  "language_info": {
   "name": "python"
  }
 },
 "nbformat": 4,
 "nbformat_minor": 5
}
