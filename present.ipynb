{
 "cells": [
  {
   "cell_type": "code",
   "execution_count": null,
   "id": "b80b92e8",
   "metadata": {},
   "outputs": [],
   "source": [
    "import anndata\n",
    "import os\n",
    "\n",
    "# make a list of all datafiles\n",
    "cancer_files = [\n",
    "    \"breast.h5ad\",\n",
    "    \"breat_2.h5ad\",\n",
    "    \"cervical.h5ad\",\n",
    "    \"dataset.h5ad\"\n",
    "]\n",
    "\n",
    "normal_files = [\n",
    "    \"brain.h5ad\",\n",
    "    \"colon.h5ad\",\n",
    "    \"dataset.h5ad\"\n",
    "]\n",
    "\n",
    "cancer_file_path = []\n",
    "count = 0\n",
    "for file in cancer_files:\n"
   ]
  }
 ],
 "metadata": {
  "language_info": {
   "name": "python"
  }
 },
 "nbformat": 4,
 "nbformat_minor": 5
}
